{
  "nbformat": 4,
  "nbformat_minor": 0,
  "metadata": {
    "colab": {
      "name": "EarthEngine_HansenForestData.ipynb",
      "provenance": [],
      "collapsed_sections": [],
      "authorship_tag": "ABX9TyNGkD949olPRteh3+S3ysJr"
    },
    "kernelspec": {
      "name": "python3",
      "display_name": "Python 3"
    },
    "language_info": {
      "name": "python"
    }
  },
  "cells": [
    {
      "cell_type": "markdown",
      "source": [
        "**Example script to conduct a simple analysis in GEE**\n",
        "\n",
        "Marco D Visser"
      ],
      "metadata": {
        "id": "IkTdg-7rKQKZ"
      }
    },
    {
      "cell_type": "code",
      "execution_count": null,
      "metadata": {
        "id": "y5G17QC0tVe5"
      },
      "outputs": [],
      "source": [
        "## import earth engine\n",
        "import ee\n",
        "\n",
        "## Run this belwo the first time\n",
        "## authenticate\n",
        "#ee.Authenticate()\n",
        "\n",
        "## initialize session\n",
        "ee.Initialize()\n",
        "\n",
        "\n"
      ]
    },
    {
      "cell_type": "code",
      "source": [
        ""
      ],
      "metadata": {
        "id": "bSM7ksYivsrW"
      },
      "execution_count": null,
      "outputs": []
    },
    {
      "cell_type": "markdown",
      "source": [
        "**Global forest cover & global albedo map **"
      ],
      "metadata": {
        "id": "6FimBOF8uEdu"
      }
    },
    {
      "cell_type": "code",
      "source": [
        ""
      ],
      "metadata": {
        "id": "qsvdhkmXMiSY"
      },
      "execution_count": null,
      "outputs": []
    },
    {
      "cell_type": "code",
      "source": [
        "## Global forest cover\n",
        "\n",
        "## this imports the country boundary feauture from the EE data library\n",
        "countries = ee.FeatureCollection(\"USDOS/LSIB_SIMPLE/2017\")\n",
        "\n",
        "## load tree cover data\n",
        "treeCover2014 = ee.Image(\"UMD/hansen/global_forest_change_2014\")\n",
        "\n",
        "## Albedo\n",
        "albedo = ee.ImageCollection(\"MODIS/006/MCD43A3\").filterDate('2017-01-01', '2017-03-31').min()\n"
      ],
      "metadata": {
        "id": "Kmny7hfKuMYL"
      },
      "execution_count": 95,
      "outputs": []
    },
    {
      "cell_type": "code",
      "source": [
        "## Import the folium library (= visualizing geospatial data)\n",
        "import folium\n",
        "#import geehydro\n",
        "\n",
        "\n",
        "## New method to display the image tiles\n",
        "def addEELayer(self,eeImageObject,visparam,name):\n",
        "  mapId_dict = ee.Image(eeImageObject).getMapId(visparam)\n",
        "  folium.raster_layers.TileLayer(\n",
        "      tiles = mapId_dict[\"tile_fetcher\"].url_format,\n",
        "      attr='Map Data &copy; <a href=\"http://earthengine.google.com/\">Google Earth Engine </a>',\n",
        "      name = name,\n",
        "      overlay=True,\n",
        "      control=True\n",
        "      ).add_to(self)\n",
        "\n",
        "## Add EE method to folium\n",
        "folium.Map.add_ee_layer=addEELayer\n",
        "\n",
        "## create a folium map object\n",
        "myMap = folium.Map(location=[27.9506, -82.4572], zoom_start=7)\n",
        "\n",
        "## Add country boundary\n",
        "myMap.add_ee_layer(eeImageObject=ee.Image().paint(countries, 0, 1), visparam={'palette': ['red']},name='Countries Boundary')\n",
        "myMap.add_ee_layer(treeCover2014.clip(countries),{'bands': ['treecover2000'], 'palette': ['000000','0000FF']},'Forest 2014')\n",
        "\n",
        "## Get a composite of all Sentinal 2 images within a date range that include my points of interest.\n",
        "namesPoi = [[\"Florida\"],[\"Panama\"],[\"Netherlands\"]]\n",
        "poiArray = [[-82.4,27.9] ,[-79.85,9.15], [5.2,52.15] ]\n",
        "\n",
        "for i in range(3):\n",
        "  poi = ee.Geometry.Point(poiArray[i])\n",
        "  image = ee.ImageCollection('COPERNICUS/S2').filterBounds(poi).filterDate('2017-01-01', '2017-04-01').min()\n",
        "  nir = image.select('B8')\n",
        "  red = image.select('B4')\n",
        "  ndvi = nir.subtract(red).divide(nir.add(red)).rename('NDVI Layer')\n",
        "  ndviParams = {'min': -1, 'max': 1, 'palette': ['blue', 'white', 'green']}\n",
        "  myMap.add_ee_layer(ndvi, ndviParams, 'NDVI image' + str(namesPoi[i]))\n",
        "\n",
        "## add the albedo\n",
        "blackSkyAlbedo = albedo.select('Albedo_BSA_Band1');\n",
        "blackSkyAlbedoVis = {'min': 0.0,  'max': 400};\n",
        "myMap.add_ee_layer(blackSkyAlbedo, blackSkyAlbedoVis, 'Black-Sky Albedo');\n",
        "\n",
        "# To see a google satellite view as a basemap\n",
        "#myMap.setOptions('HYBRID')\n",
        "#myMap.setControlVisibility(layerControl=True, fullscreenControl=True, latLngPopup=True)\n",
        "\n",
        "## layer control button\n",
        "myMap.add_child(folium.LayerControl())\n",
        "display(myMap)"
      ],
      "metadata": {
        "colab": {
          "base_uri": "https://localhost:8080/",
          "height": 947
        },
        "id": "mFhREbgMutqB",
        "outputId": "67afb725-7308-449b-b679-d31084f8f53d"
      },
      "execution_count": 100,
      "outputs": [
        {
          "output_type": "display_data",
          "data": {
            "text/html": [
              "<div style=\"width:100%;\"><div style=\"position:relative;width:100%;height:0;padding-bottom:60%;\"><span style=\"color:#565656\">Make this Notebook Trusted to load map: File -> Trust Notebook</span><iframe src=\"about:blank\" style=\"position:absolute;width:100%;height:100%;left:0;top:0;border:none !important;\" data-html=%3C%21DOCTYPE%20html%3E%0A%3Chead%3E%20%20%20%20%0A%20%20%20%20%3Cmeta%20http-equiv%3D%22content-type%22%20content%3D%22text/html%3B%20charset%3DUTF-8%22%20/%3E%0A%20%20%20%20%3Cscript%3EL_PREFER_CANVAS%3Dfalse%3B%20L_NO_TOUCH%3Dfalse%3B%20L_DISABLE_3D%3Dfalse%3B%3C/script%3E%0A%20%20%20%20%3Cscript%20src%3D%22https%3A//cdn.jsdelivr.net/npm/leaflet%401.4.0/dist/leaflet.js%22%3E%3C/script%3E%0A%20%20%20%20%3Cscript%20src%3D%22https%3A//code.jquery.com/jquery-1.12.4.min.js%22%3E%3C/script%3E%0A%20%20%20%20%3Cscript%20src%3D%22https%3A//maxcdn.bootstrapcdn.com/bootstrap/3.2.0/js/bootstrap.min.js%22%3E%3C/script%3E%0A%20%20%20%20%3Cscript%20src%3D%22https%3A//cdnjs.cloudflare.com/ajax/libs/Leaflet.awesome-markers/2.0.2/leaflet.awesome-markers.js%22%3E%3C/script%3E%0A%20%20%20%20%3Clink%20rel%3D%22stylesheet%22%20href%3D%22https%3A//cdn.jsdelivr.net/npm/leaflet%401.4.0/dist/leaflet.css%22/%3E%0A%20%20%20%20%3Clink%20rel%3D%22stylesheet%22%20href%3D%22https%3A//maxcdn.bootstrapcdn.com/bootstrap/3.2.0/css/bootstrap.min.css%22/%3E%0A%20%20%20%20%3Clink%20rel%3D%22stylesheet%22%20href%3D%22https%3A//maxcdn.bootstrapcdn.com/bootstrap/3.2.0/css/bootstrap-theme.min.css%22/%3E%0A%20%20%20%20%3Clink%20rel%3D%22stylesheet%22%20href%3D%22https%3A//maxcdn.bootstrapcdn.com/font-awesome/4.6.3/css/font-awesome.min.css%22/%3E%0A%20%20%20%20%3Clink%20rel%3D%22stylesheet%22%20href%3D%22https%3A//cdnjs.cloudflare.com/ajax/libs/Leaflet.awesome-markers/2.0.2/leaflet.awesome-markers.css%22/%3E%0A%20%20%20%20%3Clink%20rel%3D%22stylesheet%22%20href%3D%22https%3A//rawcdn.githack.com/python-visualization/folium/master/folium/templates/leaflet.awesome.rotate.css%22/%3E%0A%20%20%20%20%3Cstyle%3Ehtml%2C%20body%20%7Bwidth%3A%20100%25%3Bheight%3A%20100%25%3Bmargin%3A%200%3Bpadding%3A%200%3B%7D%3C/style%3E%0A%20%20%20%20%3Cstyle%3E%23map%20%7Bposition%3Aabsolute%3Btop%3A0%3Bbottom%3A0%3Bright%3A0%3Bleft%3A0%3B%7D%3C/style%3E%0A%20%20%20%20%0A%20%20%20%20%3Cmeta%20name%3D%22viewport%22%20content%3D%22width%3Ddevice-width%2C%0A%20%20%20%20%20%20%20%20initial-scale%3D1.0%2C%20maximum-scale%3D1.0%2C%20user-scalable%3Dno%22%20/%3E%0A%20%20%20%20%3Cstyle%3E%23map_5cfae47a2704403cb3fb6a0731d7f6e8%20%7B%0A%20%20%20%20%20%20%20%20position%3A%20relative%3B%0A%20%20%20%20%20%20%20%20width%3A%20100.0%25%3B%0A%20%20%20%20%20%20%20%20height%3A%20100.0%25%3B%0A%20%20%20%20%20%20%20%20left%3A%200.0%25%3B%0A%20%20%20%20%20%20%20%20top%3A%200.0%25%3B%0A%20%20%20%20%20%20%20%20%7D%0A%20%20%20%20%3C/style%3E%0A%3C/head%3E%0A%3Cbody%3E%20%20%20%20%0A%20%20%20%20%0A%20%20%20%20%3Cdiv%20class%3D%22folium-map%22%20id%3D%22map_5cfae47a2704403cb3fb6a0731d7f6e8%22%20%3E%3C/div%3E%0A%3C/body%3E%0A%3Cscript%3E%20%20%20%20%0A%20%20%20%20%0A%20%20%20%20%0A%20%20%20%20%20%20%20%20var%20bounds%20%3D%20null%3B%0A%20%20%20%20%0A%0A%20%20%20%20var%20map_5cfae47a2704403cb3fb6a0731d7f6e8%20%3D%20L.map%28%0A%20%20%20%20%20%20%20%20%27map_5cfae47a2704403cb3fb6a0731d7f6e8%27%2C%20%7B%0A%20%20%20%20%20%20%20%20center%3A%20%5B27.9506%2C%20-82.4572%5D%2C%0A%20%20%20%20%20%20%20%20zoom%3A%207%2C%0A%20%20%20%20%20%20%20%20maxBounds%3A%20bounds%2C%0A%20%20%20%20%20%20%20%20layers%3A%20%5B%5D%2C%0A%20%20%20%20%20%20%20%20worldCopyJump%3A%20false%2C%0A%20%20%20%20%20%20%20%20crs%3A%20L.CRS.EPSG3857%2C%0A%20%20%20%20%20%20%20%20zoomControl%3A%20true%2C%0A%20%20%20%20%20%20%20%20%7D%29%3B%0A%0A%0A%20%20%20%20%0A%20%20%20%20var%20tile_layer_7fb39855064e4601a051a6f17aad504e%20%3D%20L.tileLayer%28%0A%20%20%20%20%20%20%20%20%27https%3A//%7Bs%7D.tile.openstreetmap.org/%7Bz%7D/%7Bx%7D/%7By%7D.png%27%2C%0A%20%20%20%20%20%20%20%20%7B%0A%20%20%20%20%20%20%20%20%22attribution%22%3A%20null%2C%0A%20%20%20%20%20%20%20%20%22detectRetina%22%3A%20false%2C%0A%20%20%20%20%20%20%20%20%22maxNativeZoom%22%3A%2018%2C%0A%20%20%20%20%20%20%20%20%22maxZoom%22%3A%2018%2C%0A%20%20%20%20%20%20%20%20%22minZoom%22%3A%200%2C%0A%20%20%20%20%20%20%20%20%22noWrap%22%3A%20false%2C%0A%20%20%20%20%20%20%20%20%22opacity%22%3A%201%2C%0A%20%20%20%20%20%20%20%20%22subdomains%22%3A%20%22abc%22%2C%0A%20%20%20%20%20%20%20%20%22tms%22%3A%20false%0A%7D%29.addTo%28map_5cfae47a2704403cb3fb6a0731d7f6e8%29%3B%0A%20%20%20%20var%20tile_layer_354d593679c94853baff6772b1db4d88%20%3D%20L.tileLayer%28%0A%20%20%20%20%20%20%20%20%27https%3A//earthengine.googleapis.com/v1alpha/projects/earthengine-legacy/maps/3ee3035c34d09f534d1a5d91b816a84a-cab0e7aa757edcb3880a32e941f6d85e/tiles/%7Bz%7D/%7Bx%7D/%7By%7D%27%2C%0A%20%20%20%20%20%20%20%20%7B%0A%20%20%20%20%20%20%20%20%22attribution%22%3A%20%22Map%20Data%20%26copy%3B%20%3Ca%20href%3D%5C%22http%3A//earthengine.google.com/%5C%22%3EGoogle%20Earth%20Engine%20%3C/a%3E%22%2C%0A%20%20%20%20%20%20%20%20%22detectRetina%22%3A%20false%2C%0A%20%20%20%20%20%20%20%20%22maxNativeZoom%22%3A%2018%2C%0A%20%20%20%20%20%20%20%20%22maxZoom%22%3A%2018%2C%0A%20%20%20%20%20%20%20%20%22minZoom%22%3A%200%2C%0A%20%20%20%20%20%20%20%20%22noWrap%22%3A%20false%2C%0A%20%20%20%20%20%20%20%20%22opacity%22%3A%201%2C%0A%20%20%20%20%20%20%20%20%22subdomains%22%3A%20%22abc%22%2C%0A%20%20%20%20%20%20%20%20%22tms%22%3A%20false%0A%7D%29.addTo%28map_5cfae47a2704403cb3fb6a0731d7f6e8%29%3B%0A%20%20%20%20var%20tile_layer_fa6a9a6148f245829b746c3665ea63c0%20%3D%20L.tileLayer%28%0A%20%20%20%20%20%20%20%20%27https%3A//earthengine.googleapis.com/v1alpha/projects/earthengine-legacy/maps/06680fd96231a84b6061dbe9559b7267-892f0daaeea55dead15230abebd85b46/tiles/%7Bz%7D/%7Bx%7D/%7By%7D%27%2C%0A%20%20%20%20%20%20%20%20%7B%0A%20%20%20%20%20%20%20%20%22attribution%22%3A%20%22Map%20Data%20%26copy%3B%20%3Ca%20href%3D%5C%22http%3A//earthengine.google.com/%5C%22%3EGoogle%20Earth%20Engine%20%3C/a%3E%22%2C%0A%20%20%20%20%20%20%20%20%22detectRetina%22%3A%20false%2C%0A%20%20%20%20%20%20%20%20%22maxNativeZoom%22%3A%2018%2C%0A%20%20%20%20%20%20%20%20%22maxZoom%22%3A%2018%2C%0A%20%20%20%20%20%20%20%20%22minZoom%22%3A%200%2C%0A%20%20%20%20%20%20%20%20%22noWrap%22%3A%20false%2C%0A%20%20%20%20%20%20%20%20%22opacity%22%3A%201%2C%0A%20%20%20%20%20%20%20%20%22subdomains%22%3A%20%22abc%22%2C%0A%20%20%20%20%20%20%20%20%22tms%22%3A%20false%0A%7D%29.addTo%28map_5cfae47a2704403cb3fb6a0731d7f6e8%29%3B%0A%20%20%20%20var%20tile_layer_7e433ad6ea33449983f90eef9f79b04f%20%3D%20L.tileLayer%28%0A%20%20%20%20%20%20%20%20%27https%3A//earthengine.googleapis.com/v1alpha/projects/earthengine-legacy/maps/68a6c091f3a102ff41f5bcfed0bcd3b3-18392bdd9d09fbddb84f009c61bd7cfe/tiles/%7Bz%7D/%7Bx%7D/%7By%7D%27%2C%0A%20%20%20%20%20%20%20%20%7B%0A%20%20%20%20%20%20%20%20%22attribution%22%3A%20%22Map%20Data%20%26copy%3B%20%3Ca%20href%3D%5C%22http%3A//earthengine.google.com/%5C%22%3EGoogle%20Earth%20Engine%20%3C/a%3E%22%2C%0A%20%20%20%20%20%20%20%20%22detectRetina%22%3A%20false%2C%0A%20%20%20%20%20%20%20%20%22maxNativeZoom%22%3A%2018%2C%0A%20%20%20%20%20%20%20%20%22maxZoom%22%3A%2018%2C%0A%20%20%20%20%20%20%20%20%22minZoom%22%3A%200%2C%0A%20%20%20%20%20%20%20%20%22noWrap%22%3A%20false%2C%0A%20%20%20%20%20%20%20%20%22opacity%22%3A%201%2C%0A%20%20%20%20%20%20%20%20%22subdomains%22%3A%20%22abc%22%2C%0A%20%20%20%20%20%20%20%20%22tms%22%3A%20false%0A%7D%29.addTo%28map_5cfae47a2704403cb3fb6a0731d7f6e8%29%3B%0A%20%20%20%20var%20tile_layer_fee49b5d0cc64e44b15fbcf2caca4e8a%20%3D%20L.tileLayer%28%0A%20%20%20%20%20%20%20%20%27https%3A//earthengine.googleapis.com/v1alpha/projects/earthengine-legacy/maps/aa1ccbcac667d1e9b89b354ec3111630-b6ec7dc5819234c741db48908fd35c41/tiles/%7Bz%7D/%7Bx%7D/%7By%7D%27%2C%0A%20%20%20%20%20%20%20%20%7B%0A%20%20%20%20%20%20%20%20%22attribution%22%3A%20%22Map%20Data%20%26copy%3B%20%3Ca%20href%3D%5C%22http%3A//earthengine.google.com/%5C%22%3EGoogle%20Earth%20Engine%20%3C/a%3E%22%2C%0A%20%20%20%20%20%20%20%20%22detectRetina%22%3A%20false%2C%0A%20%20%20%20%20%20%20%20%22maxNativeZoom%22%3A%2018%2C%0A%20%20%20%20%20%20%20%20%22maxZoom%22%3A%2018%2C%0A%20%20%20%20%20%20%20%20%22minZoom%22%3A%200%2C%0A%20%20%20%20%20%20%20%20%22noWrap%22%3A%20false%2C%0A%20%20%20%20%20%20%20%20%22opacity%22%3A%201%2C%0A%20%20%20%20%20%20%20%20%22subdomains%22%3A%20%22abc%22%2C%0A%20%20%20%20%20%20%20%20%22tms%22%3A%20false%0A%7D%29.addTo%28map_5cfae47a2704403cb3fb6a0731d7f6e8%29%3B%0A%20%20%20%20var%20tile_layer_b413672e63874b629a82e4296c54aef2%20%3D%20L.tileLayer%28%0A%20%20%20%20%20%20%20%20%27https%3A//earthengine.googleapis.com/v1alpha/projects/earthengine-legacy/maps/0cb97775ccea60953ee6efd09ef0ba17-d169c1a434ce9f2d9bfc4a200af187cb/tiles/%7Bz%7D/%7Bx%7D/%7By%7D%27%2C%0A%20%20%20%20%20%20%20%20%7B%0A%20%20%20%20%20%20%20%20%22attribution%22%3A%20%22Map%20Data%20%26copy%3B%20%3Ca%20href%3D%5C%22http%3A//earthengine.google.com/%5C%22%3EGoogle%20Earth%20Engine%20%3C/a%3E%22%2C%0A%20%20%20%20%20%20%20%20%22detectRetina%22%3A%20false%2C%0A%20%20%20%20%20%20%20%20%22maxNativeZoom%22%3A%2018%2C%0A%20%20%20%20%20%20%20%20%22maxZoom%22%3A%2018%2C%0A%20%20%20%20%20%20%20%20%22minZoom%22%3A%200%2C%0A%20%20%20%20%20%20%20%20%22noWrap%22%3A%20false%2C%0A%20%20%20%20%20%20%20%20%22opacity%22%3A%201%2C%0A%20%20%20%20%20%20%20%20%22subdomains%22%3A%20%22abc%22%2C%0A%20%20%20%20%20%20%20%20%22tms%22%3A%20false%0A%7D%29.addTo%28map_5cfae47a2704403cb3fb6a0731d7f6e8%29%3B%0A%20%20%20%20var%20tile_layer_a8ff44a00b774be69b3b7ed8c7490108%20%3D%20L.tileLayer%28%0A%20%20%20%20%20%20%20%20%27https%3A//earthengine.googleapis.com/v1alpha/projects/earthengine-legacy/maps/f7c5ddc36d208550c3c630ddeff13bd7-46a7ef4296d85c589540eb731a9b56cf/tiles/%7Bz%7D/%7Bx%7D/%7By%7D%27%2C%0A%20%20%20%20%20%20%20%20%7B%0A%20%20%20%20%20%20%20%20%22attribution%22%3A%20%22Map%20Data%20%26copy%3B%20%3Ca%20href%3D%5C%22http%3A//earthengine.google.com/%5C%22%3EGoogle%20Earth%20Engine%20%3C/a%3E%22%2C%0A%20%20%20%20%20%20%20%20%22detectRetina%22%3A%20false%2C%0A%20%20%20%20%20%20%20%20%22maxNativeZoom%22%3A%2018%2C%0A%20%20%20%20%20%20%20%20%22maxZoom%22%3A%2018%2C%0A%20%20%20%20%20%20%20%20%22minZoom%22%3A%200%2C%0A%20%20%20%20%20%20%20%20%22noWrap%22%3A%20false%2C%0A%20%20%20%20%20%20%20%20%22opacity%22%3A%201%2C%0A%20%20%20%20%20%20%20%20%22subdomains%22%3A%20%22abc%22%2C%0A%20%20%20%20%20%20%20%20%22tms%22%3A%20false%0A%7D%29.addTo%28map_5cfae47a2704403cb3fb6a0731d7f6e8%29%3B%0A%20%20%20%20%0A%20%20%20%20%20%20%20%20%20%20%20%20var%20layer_control_e9c7ef6c3d0946f49814978be0095835%20%3D%20%7B%0A%20%20%20%20%20%20%20%20%20%20%20%20%20%20%20%20base_layers%20%3A%20%7B%20%22openstreetmap%22%20%3A%20tile_layer_7fb39855064e4601a051a6f17aad504e%2C%20%7D%2C%0A%20%20%20%20%20%20%20%20%20%20%20%20%20%20%20%20overlays%20%3A%20%7B%20%22Countries%20Boundary%22%20%3A%20tile_layer_354d593679c94853baff6772b1db4d88%2C%22Forest%202014%22%20%3A%20tile_layer_fa6a9a6148f245829b746c3665ea63c0%2C%22NDVI%20image%5B%27Florida%27%5D%22%20%3A%20tile_layer_7e433ad6ea33449983f90eef9f79b04f%2C%22NDVI%20image%5B%27Panama%27%5D%22%20%3A%20tile_layer_fee49b5d0cc64e44b15fbcf2caca4e8a%2C%22NDVI%20image%5B%27Netherlands%27%5D%22%20%3A%20tile_layer_b413672e63874b629a82e4296c54aef2%2C%22Black-Sky%20Albedo%22%20%3A%20tile_layer_a8ff44a00b774be69b3b7ed8c7490108%2C%20%7D%0A%20%20%20%20%20%20%20%20%20%20%20%20%20%20%20%20%7D%3B%0A%20%20%20%20%20%20%20%20%20%20%20%20L.control.layers%28%0A%20%20%20%20%20%20%20%20%20%20%20%20%20%20%20%20layer_control_e9c7ef6c3d0946f49814978be0095835.base_layers%2C%0A%20%20%20%20%20%20%20%20%20%20%20%20%20%20%20%20layer_control_e9c7ef6c3d0946f49814978be0095835.overlays%2C%0A%20%20%20%20%20%20%20%20%20%20%20%20%20%20%20%20%7Bposition%3A%20%27topright%27%2C%0A%20%20%20%20%20%20%20%20%20%20%20%20%20%20%20%20%20collapsed%3A%20true%2C%0A%20%20%20%20%20%20%20%20%20%20%20%20%20%20%20%20%20autoZIndex%3A%20true%0A%20%20%20%20%20%20%20%20%20%20%20%20%20%20%20%20%7D%29.addTo%28map_5cfae47a2704403cb3fb6a0731d7f6e8%29%3B%0A%20%20%20%20%20%20%20%20%20%20%20%20%0A%20%20%20%20%20%20%20%20%0A%3C/script%3E onload=\"this.contentDocument.open();this.contentDocument.write(    decodeURIComponent(this.getAttribute('data-html')));this.contentDocument.close();\" allowfullscreen webkitallowfullscreen mozallowfullscreen></iframe></div></div>"
            ],
            "text/plain": [
              "<folium.folium.Map at 0x7f09a3f25b90>"
            ]
          },
          "metadata": {}
        }
      ]
    },
    {
      "cell_type": "markdown",
      "source": [
        ""
      ],
      "metadata": {
        "id": "TzRGE9ICKOEP"
      }
    }
  ]
}